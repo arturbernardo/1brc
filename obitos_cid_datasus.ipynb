{
  "nbformat": 4,
  "nbformat_minor": 0,
  "metadata": {
    "colab": {
      "provenance": [],
      "machine_shape": "hm",
      "gpuType": "V28",
      "authorship_tag": "ABX9TyM6zZ1bZ5S3X7y0r4zD58rk",
      "include_colab_link": true
    },
    "kernelspec": {
      "name": "python3",
      "display_name": "Python 3"
    },
    "language_info": {
      "name": "python"
    },
    "accelerator": "TPU"
  },
  "cells": [
    {
      "cell_type": "markdown",
      "metadata": {
        "id": "view-in-github",
        "colab_type": "text"
      },
      "source": [
        "<a href=\"https://colab.research.google.com/github/arturbernardo/1brc/blob/main/obitos_cid_datasus.ipynb\" target=\"_parent\"><img src=\"https://colab.research.google.com/assets/colab-badge.svg\" alt=\"Open In Colab\"/></a>"
      ]
    },
    {
      "cell_type": "code",
      "source": [
        "!pip install ipython-sql\n",
        "!pip install sqlalchemy"
      ],
      "metadata": {
        "id": "fhUn4exApvSg"
      },
      "execution_count": null,
      "outputs": []
    },
    {
      "cell_type": "code",
      "source": [
        "!pip install psycopg2-binary sqlalchemy"
      ],
      "metadata": {
        "id": "uQlsvWx0pzLf"
      },
      "execution_count": null,
      "outputs": []
    },
    {
      "cell_type": "code",
      "source": [
        "pip install polars"
      ],
      "metadata": {
        "id": "ApEXHQHZsYQG"
      },
      "execution_count": null,
      "outputs": []
    },
    {
      "cell_type": "code",
      "source": [
        "import math\n",
        "import polars as pl\n",
        "import pandas as pd\n",
        "import numpy as np\n",
        "import matplotlib.pyplot as plt\n",
        "import psycopg2\n",
        "from sqlalchemy import create_engine\n",
        "from sqlalchemy import text\n",
        "from getpass import getpass\n",
        "from dateutil.relativedelta import relativedelta"
      ],
      "metadata": {
        "id": "ldXqh59SskO5"
      },
      "execution_count": 19,
      "outputs": []
    },
    {
      "cell_type": "code",
      "source": [
        "pl.Config.set_tbl_cols(-1) # mostrar todas as colunas, se desejado"
      ],
      "metadata": {
        "id": "Jsf-WX4dtaL9"
      },
      "execution_count": null,
      "outputs": []
    },
    {
      "cell_type": "markdown",
      "source": [
        "# CONECTAR BASE"
      ],
      "metadata": {
        "id": "5WZJzwbggc19"
      }
    },
    {
      "cell_type": "code",
      "source": [
        "port = 5432\n",
        "database = \"postgres\"\n",
        "user = \"postgres\"\n",
        "host = \"34.95.206.58\"\n",
        "password = getpass(\"Digite sua senha: \")\n",
        "database = \"postgres\"\n",
        "\n",
        "engine = create_engine(f\"postgresql+psycopg2://{user}:{password}@{host}:{port}/{database}\")\n",
        "\n",
        "with engine.connect() as connection:\n",
        "    result = connection.execute(text(\"SELECT version()\"))\n",
        "    for row in result:\n",
        "        print(row)\n"
      ],
      "metadata": {
        "id": "aIaiARy6p2cn"
      },
      "execution_count": null,
      "outputs": []
    },
    {
      "cell_type": "code",
      "source": [
        "# !curl ifconfig.me"
      ],
      "metadata": {
        "id": "dvuyT61Qp6PV"
      },
      "execution_count": null,
      "outputs": []
    },
    {
      "cell_type": "code",
      "source": [
        "# Na base Postgres\n",
        "# CREATE EXTENSION postgis;"
      ],
      "metadata": {
        "id": "c0W6yC0FmwI6"
      },
      "execution_count": null,
      "outputs": []
    },
    {
      "cell_type": "markdown",
      "source": [
        "# IMPORTAR CIDADES"
      ],
      "metadata": {
        "id": "U3maMVZ_gWrn"
      }
    },
    {
      "cell_type": "code",
      "source": [
        "uri = \"https://raw.githubusercontent.com/arturbernardo/municipios-brasileiros/refs/heads/main/csv/municipios.csv\"\n",
        "!wget -U \"Mozilla\" -O municipios.csv {uri}"
      ],
      "metadata": {
        "id": "RNPdgZb6d8bz"
      },
      "execution_count": null,
      "outputs": []
    },
    {
      "cell_type": "code",
      "source": [
        "path = \"/content/municipios.csv\"\n",
        "\n",
        "df = pl.read_csv(path, separator=\",\",encoding=\"utf-8\", null_values=[\"null\"], truncate_ragged_lines=True)"
      ],
      "metadata": {
        "id": "hYPk17ITePgg"
      },
      "execution_count": 75,
      "outputs": []
    },
    {
      "cell_type": "code",
      "source": [
        "df = df.to_pandas()"
      ],
      "metadata": {
        "id": "q6Dw1v8LebZ3"
      },
      "execution_count": 76,
      "outputs": []
    },
    {
      "cell_type": "code",
      "source": [
        "df.to_sql(\n",
        "    name=\"municipios\",\n",
        "    con=engine,\n",
        "    index=False\n",
        ")"
      ],
      "metadata": {
        "colab": {
          "base_uri": "https://localhost:8080/"
        },
        "id": "9EYMZLi5eIBK",
        "outputId": "bfa23795-745f-41be-e893-19486b945bcf"
      },
      "execution_count": 77,
      "outputs": [
        {
          "output_type": "execute_result",
          "data": {
            "text/plain": [
              "570"
            ]
          },
          "metadata": {},
          "execution_count": 77
        }
      ]
    },
    {
      "cell_type": "markdown",
      "source": [
        "# IMPORTAR ESTADOS"
      ],
      "metadata": {
        "id": "7FMJuPcak_5N"
      }
    },
    {
      "cell_type": "code",
      "source": [
        "uri = \"https://raw.githubusercontent.com/arturbernardo/municipios-brasileiros/refs/heads/main/csv/estados.csv\"\n",
        "!wget -U \"Mozilla\" -O estados.csv {uri}"
      ],
      "metadata": {
        "colab": {
          "base_uri": "https://localhost:8080/"
        },
        "id": "89Xd4EZik80-",
        "outputId": "9176a1b8-1aeb-4c6e-bbcf-141c8cfea830"
      },
      "execution_count": 68,
      "outputs": [
        {
          "output_type": "stream",
          "name": "stdout",
          "text": [
            "--2025-05-01 16:01:28--  https://raw.githubusercontent.com/arturbernardo/municipios-brasileiros/refs/heads/main/csv/estados.csv\n",
            "Resolving raw.githubusercontent.com (raw.githubusercontent.com)... 185.199.108.133, 185.199.109.133, 185.199.110.133, ...\n",
            "Connecting to raw.githubusercontent.com (raw.githubusercontent.com)|185.199.108.133|:443... connected.\n",
            "HTTP request sent, awaiting response... 200 OK\n",
            "Length: 1077 (1.1K) [text/plain]\n",
            "Saving to: ‘estados.csv’\n",
            "\n",
            "\restados.csv           0%[                    ]       0  --.-KB/s               \restados.csv         100%[===================>]   1.05K  --.-KB/s    in 0s      \n",
            "\n",
            "2025-05-01 16:01:29 (61.6 MB/s) - ‘estados.csv’ saved [1077/1077]\n",
            "\n"
          ]
        }
      ]
    },
    {
      "cell_type": "code",
      "source": [
        "path = \"/content/estados.csv\"\n",
        "\n",
        "df = pl.read_csv(path, separator=\",\",encoding=\"utf-8\", null_values=[\"null\"], truncate_ragged_lines=True)"
      ],
      "metadata": {
        "id": "Scsm-3crlEp8"
      },
      "execution_count": 72,
      "outputs": []
    },
    {
      "cell_type": "code",
      "source": [
        "df = df.to_pandas()"
      ],
      "metadata": {
        "id": "ly6t25O0lJ0E"
      },
      "execution_count": 73,
      "outputs": []
    },
    {
      "cell_type": "code",
      "source": [
        "df.to_sql(\n",
        "    name=\"estados\",\n",
        "    con=engine,\n",
        "    index=False\n",
        ")"
      ],
      "metadata": {
        "colab": {
          "base_uri": "https://localhost:8080/"
        },
        "id": "MlHKL6zwlKOF",
        "outputId": "d508b19c-6db2-429d-cd29-6d694fbd5b66"
      },
      "execution_count": 74,
      "outputs": [
        {
          "output_type": "execute_result",
          "data": {
            "text/plain": [
              "27"
            ]
          },
          "metadata": {},
          "execution_count": 74
        }
      ]
    },
    {
      "cell_type": "markdown",
      "source": [
        "# IMPORTAR SUBCATEGORIAS DO CID"
      ],
      "metadata": {
        "id": "JHtS7kpfhDF8"
      }
    },
    {
      "cell_type": "code",
      "source": [
        "uri = \"https://github.com/arturbernardo/CidDataSus/raw/refs/heads/master/CIDImport/Repositorio/Resources/CID-10-SUBCATEGORIAS.CSV\"\n",
        "!wget -U \"Mozilla\" -O CID-10-SUBCATEGORIAS.CSV {uri}"
      ],
      "metadata": {
        "id": "fQvgfWPXXniB"
      },
      "execution_count": null,
      "outputs": []
    },
    {
      "cell_type": "code",
      "source": [
        "columns_subcat = ['SUBCAT', 'CLASSIF', 'RESTRSEXO', 'CAUSAOBITO', 'DESCRICAO', 'DESCRABREV', 'REFER', 'EXCLUIDOS']"
      ],
      "metadata": {
        "id": "sZwOfkMJhXKj"
      },
      "execution_count": null,
      "outputs": []
    },
    {
      "cell_type": "code",
      "source": [
        "path = \"/content/CID-10-SUBCATEGORIAS.CSV\"\n",
        "\n",
        "sub_categorias = pl.read_csv(path, separator=\";\", columns=columns_subcat, encoding=\"latin-1\", quote_char=None)"
      ],
      "metadata": {
        "id": "wO7oAFJQlPcx"
      },
      "execution_count": 44,
      "outputs": []
    },
    {
      "cell_type": "code",
      "source": [
        "pandas_sub_categorias = sub_categorias.to_pandas()"
      ],
      "metadata": {
        "id": "2qXP0qxN0DsW"
      },
      "execution_count": 45,
      "outputs": []
    },
    {
      "cell_type": "code",
      "source": [
        "pandas_sub_categorias.to_sql(\n",
        "    name=\"cid_sub_cat\",       # nome da tabela no banco\n",
        "    con=engine,           # conexão sqlalchemy\n",
        "    index=False           # não enviar o índice do pandas como coluna\n",
        ")"
      ],
      "metadata": {
        "id": "B7h_0JA2p9tz"
      },
      "execution_count": null,
      "outputs": []
    },
    {
      "cell_type": "markdown",
      "source": [
        "# IMPORTAR MORTES POR ANO"
      ],
      "metadata": {
        "id": "17j75FNbh6_1"
      }
    },
    {
      "cell_type": "code",
      "source": [
        "# 1979 - 1995 https://diaad.s3.sa-east-1.amazonaws.com/sim/Mortalidade_Geral_1979.csv\n",
        "for i in range(1979, 1996, 1):\n",
        "  !wget -U \"Mozilla\" -O mortalidade_{str(i)}.csv https://diaad.s3.sa-east-1.amazonaws.com/sim/Mortalidade_Geral_{str(i)}.csv"
      ],
      "metadata": {
        "id": "UDISfUrKiw6C"
      },
      "execution_count": null,
      "outputs": []
    },
    {
      "cell_type": "code",
      "source": [
        "# 1996 - 2020 https://diaad.s3.sa-east-1.amazonaws.com/sim/Mortalidade_Geral_1979.csv\n",
        "for i in range(1996, 2021, 1):\n",
        "  !wget -U \"Mozilla\" -O mortalidade_{str(i)}.csv https://diaad.s3.sa-east-1.amazonaws.com/sim/Mortalidade_Geral_{str(i)}.csv"
      ],
      "metadata": {
        "id": "rN-VORFsVCor"
      },
      "execution_count": null,
      "outputs": []
    },
    {
      "cell_type": "code",
      "source": [
        "# 2021 - Unico em padrão diferente. AWS e Titulo no formato antigo\n",
        "!wget -U \"Mozilla\" -O mortalidade_2021.csv https://s3.sa-east-1.amazonaws.com/ckan.saude.gov.br/SIM/Mortalidade_Geral_2021.csv"
      ],
      "metadata": {
        "id": "ndh8J99tXsPV"
      },
      "execution_count": null,
      "outputs": []
    },
    {
      "cell_type": "code",
      "source": [
        "# https://s3.sa-east-1.amazonaws.com/ckan.saude.gov.br/SIM/DO22OPEN.csv\n",
        "for i in range(22, 25, 1):\n",
        "  !wget -U \"Mozilla\" -O mortalidade_20{str(i)}.csv https://s3.sa-east-1.amazonaws.com/ckan.saude.gov.br/SIM/DO{str(i)}OPEN.csv"
      ],
      "metadata": {
        "id": "Y3NZ94e1SnLf"
      },
      "execution_count": null,
      "outputs": []
    },
    {
      "cell_type": "code",
      "source": [
        "!ls -lha"
      ],
      "metadata": {
        "id": "JsSO0f-NY5Vk"
      },
      "execution_count": null,
      "outputs": []
    },
    {
      "cell_type": "code",
      "source": [
        "!rm -Rf sample_data # remova arquivos indesejados no content ou remove eles da lista de arquivos que será processada em seguida"
      ],
      "metadata": {
        "id": "KoR92PptZGGN"
      },
      "execution_count": 24,
      "outputs": []
    },
    {
      "cell_type": "code",
      "source": [
        "files = !ls | grep mortalidade\n",
        "files"
      ],
      "metadata": {
        "colab": {
          "base_uri": "https://localhost:8080/"
        },
        "id": "apGdOYEtPziy",
        "outputId": "4d65538c-67c6-47aa-fb61-aaecb7290899"
      },
      "execution_count": 27,
      "outputs": [
        {
          "output_type": "execute_result",
          "data": {
            "text/plain": [
              "['mortalidade_1997.csv']"
            ]
          },
          "metadata": {},
          "execution_count": 27
        }
      ]
    },
    {
      "cell_type": "markdown",
      "source": [
        "Cria dataframe com todos os arquivos.\n",
        "Serão dezenas de milhões de registros, caso use esta abordagem."
      ],
      "metadata": {
        "id": "Gpf-DuGjjkHA"
      }
    },
    {
      "cell_type": "code",
      "source": [
        "columns=[\"CAUSABAS\", \"IDADE\", \"SEXO\", \"RACACOR\", \"LOCOCOR\", \"DTNASC\", \"DTOBITO\", \"CODMUNOCOR\"]\n",
        "\n",
        "df = pl.read_csv(files[0], separator=\";\",encoding=\"latin-1\", null_values=[\"null\"], columns=columns, infer_schema=False)\n",
        "\n",
        "for file in files[1:]:\n",
        "  mortalidade = pl.read_csv(file, separator=\";\",encoding=\"latin-1\", null_values=[\"null\"], columns=columns, infer_schema=False)\n",
        "  df = pl.concat([df, mortalidade], how=\"vertical_relaxed\")"
      ],
      "metadata": {
        "id": "NPNsfay7QO7z"
      },
      "execution_count": null,
      "outputs": []
    },
    {
      "cell_type": "markdown",
      "source": [
        "Importar separado pode ser uma estratégia melhor, caso o deseo seja analisar apenas um ano ou carregar uma base de dados.\n",
        "Do Colab tive aproximadamente 2 minutos para carregar cada ano para uma base postgres na nuvem."
      ],
      "metadata": {
        "id": "qVXE5Pbyj5NC"
      }
    },
    {
      "cell_type": "code",
      "source": [
        "df = pl.read_csv(files[0], separator=\";\",encoding=\"latin-1\", null_values=[\"null\"], columns=columns, infer_schema=False)\n"
      ],
      "metadata": {
        "id": "BhFtzf2e6Ov7"
      },
      "execution_count": 30,
      "outputs": []
    },
    {
      "cell_type": "markdown",
      "source": [
        "RASCUNHOS: 👇"
      ],
      "metadata": {
        "id": "LVzCXnHekhWD"
      }
    },
    {
      "cell_type": "markdown",
      "source": [
        "<!-- SELECT *\n",
        "FROM municipios\n",
        "WHERE ST_DWithin(\n",
        "  location,\n",
        "  ST_SetSRID(ST_MakePoint(-46.625290, -23.533773), 4326)::geography,\n",
        "  15000\n",
        "); -->"
      ],
      "metadata": {
        "id": "clnwocMoHfnx"
      }
    },
    {
      "cell_type": "markdown",
      "source": [
        "https://diaad.s3.sa-east-1.amazonaws.com/sim/Mortalidade_Geral+-+Estrutura.pdf"
      ],
      "metadata": {
        "id": "TJjn7RnUz9ab"
      }
    },
    {
      "cell_type": "code",
      "source": [
        "# !wget -U \"Mozilla\" -O mortalidade_2023.csv https://s3.sa-east-1.amazonaws.com/ckan.saude.gov.br/SIM/DO23OPEN.csv"
      ],
      "metadata": {
        "id": "tGfaZSh_P89e"
      },
      "execution_count": null,
      "outputs": []
    },
    {
      "cell_type": "code",
      "source": [
        "codigos_siglas = {\n",
        "    12: \"AC\",\n",
        "    27: \"AL\",\n",
        "    16: \"AP\",\n",
        "    13: \"AM\",\n",
        "    29: \"BA\",\n",
        "    23: \"CE\",\n",
        "    53: \"DF\",\n",
        "    32: \"ES\",\n",
        "    52: \"GO\",\n",
        "    21: \"MA\",\n",
        "    51: \"MT\",\n",
        "    50: \"MS\",\n",
        "    31: \"MG\",\n",
        "    15: \"PA\",\n",
        "    25: \"PB\",\n",
        "    41: \"PR\",\n",
        "    26: \"PE\",\n",
        "    22: \"PI\",\n",
        "    24: \"RN\",\n",
        "    43: \"RS\",\n",
        "    33: \"RJ\",\n",
        "    11: \"RO\",\n",
        "    14: \"RR\",\n",
        "    42: \"SC\",\n",
        "    35: \"SP\",\n",
        "    28: \"SE\",\n",
        "    17: \"TO\"\n",
        "}\n"
      ],
      "metadata": {
        "id": "IMgcJkZ01ucC"
      },
      "execution_count": 25,
      "outputs": []
    },
    {
      "cell_type": "markdown",
      "source": [
        "Até 1955, data começa com o ano em dois digitos. yymmdd\n",
        "Depois, data ddmmyyyy\n",
        "\n",
        "até 1995, usava-se CID-9\n",
        "Depois, CID10.\n",
        "\n",
        "http://tabnet.datasus.gov.br/cgi/sim/Mortalidade_Geral_1979_1995.pdf\n",
        "\n"
      ],
      "metadata": {
        "id": "xMnYEumyn0Mj"
      }
    },
    {
      "cell_type": "code",
      "source": [
        "sub_categorias"
      ],
      "metadata": {
        "id": "R69p0hAoaH49"
      },
      "execution_count": null,
      "outputs": []
    },
    {
      "cell_type": "code",
      "source": [
        "files[1:]"
      ],
      "metadata": {
        "id": "4saimOb5V6w7"
      },
      "execution_count": null,
      "outputs": []
    },
    {
      "cell_type": "code",
      "source": [
        "len(df)"
      ],
      "metadata": {
        "id": "VQeNz3ZIQ64R"
      },
      "execution_count": null,
      "outputs": []
    },
    {
      "cell_type": "code",
      "source": [
        "mortalidade_rs = df.with_columns(\n",
        "    pl.col(\"CODMUNOCOR\").cast(pl.Utf8).str.slice(0, 2).alias(\"codigo_estado\")\n",
        ")\n",
        "mortalidade_rs = mortalidade_rs.filter(pl.col(\"codigo_estado\") == \"41\")"
      ],
      "metadata": {
        "id": "esUfQzAxXeYg"
      },
      "execution_count": 17,
      "outputs": []
    },
    {
      "cell_type": "code",
      "source": [
        "mortalidade_rs_causa = mortalidade_rs.join(sub_categorias, left_on=\"CAUSABAS\", right_on=\"SUBCAT\", how=\"left\")"
      ],
      "metadata": {
        "id": "0jy0pSddYJMl"
      },
      "execution_count": 18,
      "outputs": []
    },
    {
      "cell_type": "code",
      "source": [
        "mortalidade_rs_causa_auto = mortalidade_rs_causa.filter(mortalidade_rs_causa['DESCRICAO'].str.contains('autoprovocada'))"
      ],
      "metadata": {
        "id": "sr4x64yiYgzS"
      },
      "execution_count": 19,
      "outputs": []
    },
    {
      "cell_type": "code",
      "source": [
        "mortalidade_rs_causa_auto = mortalidade_rs_causa_auto.with_columns(\n",
        "    pl.col(\"DTOBITO\").str.extract(r\"(\\d{4})$\").cast(pl.Int64).alias(\"ANO_OBITO\")\n",
        ")\n",
        "\n",
        "# mortalidade_rs_causa_auto = mortalidade_rs_causa_auto.filter(mortalidade_rs_causa_auto['DESCRICAO'].str.contains('arma de fogo'))"
      ],
      "metadata": {
        "id": "FDccz9W9ZZE9"
      },
      "execution_count": 20,
      "outputs": []
    },
    {
      "cell_type": "code",
      "source": [
        "mortalidade_rs_causa_auto"
      ],
      "metadata": {
        "id": "FYUc0J-tbjZI"
      },
      "execution_count": null,
      "outputs": []
    },
    {
      "cell_type": "code",
      "source": [
        "contagens_pd = mortalidade_rs_causa_auto.to_pandas()\n",
        "\n",
        "\n",
        "contagens = contagens_pd['ANO_OBITO'].value_counts().sort_index()\n",
        "\n",
        "# Eixos X e Y\n",
        "x = np.arange(len(contagens))  # valores do eixo x (0, 1, 2, ...)\n",
        "y = contagens.values           # contagens (frequências)\n",
        "labels = contagens.index       # rótulos (valores únicos da coluna)\n",
        "\n",
        "# Regressão linear (reta: y = mx + b)\n",
        "coef = np.polyfit(x, y, 1)\n",
        "poly1d_fn = np.poly1d(coef)\n",
        "\n",
        "# Plot\n",
        "plt.figure(figsize=(10, 6))\n",
        "plt.bar(x, y, label='Frequência')\n",
        "plt.plot(x, poly1d_fn(x), color='red', linewidth=2, label='Regressão linear')  # linha da regressão\n",
        "\n",
        "# Rótulos e título\n",
        "plt.xticks(x, labels, rotation=45)\n",
        "plt.xlabel('Valor')\n",
        "plt.ylabel('Contagem')\n",
        "plt.title('Frequência com Regressão Linear')\n",
        "plt.legend()\n",
        "plt.tight_layout()\n",
        "plt.show()"
      ],
      "metadata": {
        "colab": {
          "base_uri": "https://localhost:8080/",
          "height": 606
        },
        "id": "TYEEUmk7Yt7R",
        "outputId": "d62eeacc-8692-4477-b784-d1a8873bb6be"
      },
      "execution_count": null,
      "outputs": [
        {
          "output_type": "display_data",
          "data": {
            "text/plain": [
              "<Figure size 1000x600 with 1 Axes>"
            ],
            "image/png": "[encoded data removed]"
          },
          "metadata": {}
        }
      ]
    },
    {
      "cell_type": "markdown",
      "source": [
        "#######################"
      ],
      "metadata": {
        "id": "mNA2uI1HYeZr"
      }
    },
    {
      "cell_type": "code",
      "source": [
        "contagens_pd = mortalidade_rs_causa_auto.to_pandas()\n",
        "\n",
        "\n",
        "contagens = contagens_pd['ANO_OBITO'].value_counts().sort_index()\n",
        "\n",
        "# Eixos X e Y\n",
        "x = np.arange(len(contagens))  # valores do eixo x (0, 1, 2, ...)\n",
        "y = contagens.values           # contagens (frequências)\n",
        "labels = contagens.index       # rótulos (valores únicos da coluna)\n",
        "\n",
        "# Regressão linear (reta: y = mx + b)\n",
        "coef = np.polyfit(x, y, 1)\n",
        "poly1d_fn = np.poly1d(coef)\n",
        "\n",
        "# Plot\n",
        "plt.figure(figsize=(10, 6))\n",
        "plt.bar(x, y, label='Frequência')\n",
        "plt.plot(x, poly1d_fn(x), color='red', linewidth=2, label='Regressão linear')  # linha da regressão\n",
        "\n",
        "# Rótulos e título\n",
        "plt.xticks(x, labels, rotation=45)\n",
        "plt.xlabel('Valor')\n",
        "plt.ylabel('Contagem')\n",
        "plt.title('Frequência com Regressão Linear')\n",
        "plt.legend()\n",
        "plt.tight_layout()\n",
        "plt.show()"
      ],
      "metadata": {
        "id": "Z8xEgTmydGY8",
        "outputId": "a6532869-5227-41fb-c8c0-79a3a06bc7bd",
        "colab": {
          "base_uri": "https://localhost:8080/",
          "height": 547
        }
      },
      "execution_count": null,
      "outputs": [
        {
          "output_type": "error",
          "ename": "KeyError",
          "evalue": "'ANO_OBITO'",
          "traceback": [
            "\u001b[0;31m---------------------------------------------------------------------------\u001b[0m",
            "\u001b[0;31mKeyError\u001b[0m                                  Traceback (most recent call last)",
            "\u001b[0;32m/usr/local/lib/python3.11/dist-packages/pandas/core/indexes/base.py\u001b[0m in \u001b[0;36mget_loc\u001b[0;34m(self, key)\u001b[0m\n\u001b[1;32m   3804\u001b[0m         \u001b[0;32mtry\u001b[0m\u001b[0;34m:\u001b[0m\u001b[0;34m\u001b[0m\u001b[0;34m\u001b[0m\u001b[0m\n\u001b[0;32m-> 3805\u001b[0;31m             \u001b[0;32mreturn\u001b[0m \u001b[0mself\u001b[0m\u001b[0;34m.\u001b[0m\u001b[0m_engine\u001b[0m\u001b[0;34m.\u001b[0m\u001b[0mget_loc\u001b[0m\u001b[0;34m(\u001b[0m\u001b[0mcasted_key\u001b[0m\u001b[0;34m)\u001b[0m\u001b[0;34m\u001b[0m\u001b[0;34m\u001b[0m\u001b[0m\n\u001b[0m\u001b[1;32m   3806\u001b[0m         \u001b[0;32mexcept\u001b[0m \u001b[0mKeyError\u001b[0m \u001b[0;32mas\u001b[0m \u001b[0merr\u001b[0m\u001b[0;34m:\u001b[0m\u001b[0;34m\u001b[0m\u001b[0;34m\u001b[0m\u001b[0m\n",
            "\u001b[0;32mindex.pyx\u001b[0m in \u001b[0;36mpandas._libs.index.IndexEngine.get_loc\u001b[0;34m()\u001b[0m\n",
            "\u001b[0;32mindex.pyx\u001b[0m in \u001b[0;36mpandas._libs.index.IndexEngine.get_loc\u001b[0;34m()\u001b[0m\n",
            "\u001b[0;32mpandas/_libs/hashtable_class_helper.pxi\u001b[0m in \u001b[0;36mpandas._libs.hashtable.PyObjectHashTable.get_item\u001b[0;34m()\u001b[0m\n",
            "\u001b[0;32mpandas/_libs/hashtable_class_helper.pxi\u001b[0m in \u001b[0;36mpandas._libs.hashtable.PyObjectHashTable.get_item\u001b[0;34m()\u001b[0m\n",
            "\u001b[0;31mKeyError\u001b[0m: 'ANO_OBITO'",
            "\nThe above exception was the direct cause of the following exception:\n",
            "\u001b[0;31mKeyError\u001b[0m                                  Traceback (most recent call last)",
            "\u001b[0;32m<ipython-input-76-b05be97782ee>\u001b[0m in \u001b[0;36m<cell line: 0>\u001b[0;34m()\u001b[0m\n\u001b[1;32m      2\u001b[0m \u001b[0;34m\u001b[0m\u001b[0m\n\u001b[1;32m      3\u001b[0m \u001b[0;34m\u001b[0m\u001b[0m\n\u001b[0;32m----> 4\u001b[0;31m \u001b[0mcontagens\u001b[0m \u001b[0;34m=\u001b[0m \u001b[0mcontagens_pd\u001b[0m\u001b[0;34m[\u001b[0m\u001b[0;34m'ANO_OBITO'\u001b[0m\u001b[0;34m]\u001b[0m\u001b[0;34m.\u001b[0m\u001b[0mvalue_counts\u001b[0m\u001b[0;34m(\u001b[0m\u001b[0;34m)\u001b[0m\u001b[0;34m.\u001b[0m\u001b[0msort_index\u001b[0m\u001b[0;34m(\u001b[0m\u001b[0;34m)\u001b[0m\u001b[0;34m\u001b[0m\u001b[0;34m\u001b[0m\u001b[0m\n\u001b[0m\u001b[1;32m      5\u001b[0m \u001b[0;34m\u001b[0m\u001b[0m\n\u001b[1;32m      6\u001b[0m \u001b[0;31m# Eixos X e Y\u001b[0m\u001b[0;34m\u001b[0m\u001b[0;34m\u001b[0m\u001b[0m\n",
            "\u001b[0;32m/usr/local/lib/python3.11/dist-packages/pandas/core/frame.py\u001b[0m in \u001b[0;36m__getitem__\u001b[0;34m(self, key)\u001b[0m\n\u001b[1;32m   4100\u001b[0m             \u001b[0;32mif\u001b[0m \u001b[0mself\u001b[0m\u001b[0;34m.\u001b[0m\u001b[0mcolumns\u001b[0m\u001b[0;34m.\u001b[0m\u001b[0mnlevels\u001b[0m \u001b[0;34m>\u001b[0m \u001b[0;36m1\u001b[0m\u001b[0;34m:\u001b[0m\u001b[0;34m\u001b[0m\u001b[0;34m\u001b[0m\u001b[0m\n\u001b[1;32m   4101\u001b[0m                 \u001b[0;32mreturn\u001b[0m \u001b[0mself\u001b[0m\u001b[0;34m.\u001b[0m\u001b[0m_getitem_multilevel\u001b[0m\u001b[0;34m(\u001b[0m\u001b[0mkey\u001b[0m\u001b[0;34m)\u001b[0m\u001b[0;34m\u001b[0m\u001b[0;34m\u001b[0m\u001b[0m\n\u001b[0;32m-> 4102\u001b[0;31m             \u001b[0mindexer\u001b[0m \u001b[0;34m=\u001b[0m \u001b[0mself\u001b[0m\u001b[0;34m.\u001b[0m\u001b[0mcolumns\u001b[0m\u001b[0;34m.\u001b[0m\u001b[0mget_loc\u001b[0m\u001b[0;34m(\u001b[0m\u001b[0mkey\u001b[0m\u001b[0;34m)\u001b[0m\u001b[0;34m\u001b[0m\u001b[0;34m\u001b[0m\u001b[0m\n\u001b[0m\u001b[1;32m   4103\u001b[0m             \u001b[0;32mif\u001b[0m \u001b[0mis_integer\u001b[0m\u001b[0;34m(\u001b[0m\u001b[0mindexer\u001b[0m\u001b[0;34m)\u001b[0m\u001b[0;34m:\u001b[0m\u001b[0;34m\u001b[0m\u001b[0;34m\u001b[0m\u001b[0m\n\u001b[1;32m   4104\u001b[0m                 \u001b[0mindexer\u001b[0m \u001b[0;34m=\u001b[0m \u001b[0;34m[\u001b[0m\u001b[0mindexer\u001b[0m\u001b[0;34m]\u001b[0m\u001b[0;34m\u001b[0m\u001b[0;34m\u001b[0m\u001b[0m\n",
            "\u001b[0;32m/usr/local/lib/python3.11/dist-packages/pandas/core/indexes/base.py\u001b[0m in \u001b[0;36mget_loc\u001b[0;34m(self, key)\u001b[0m\n\u001b[1;32m   3810\u001b[0m             ):\n\u001b[1;32m   3811\u001b[0m                 \u001b[0;32mraise\u001b[0m \u001b[0mInvalidIndexError\u001b[0m\u001b[0;34m(\u001b[0m\u001b[0mkey\u001b[0m\u001b[0;34m)\u001b[0m\u001b[0;34m\u001b[0m\u001b[0;34m\u001b[0m\u001b[0m\n\u001b[0;32m-> 3812\u001b[0;31m             \u001b[0;32mraise\u001b[0m \u001b[0mKeyError\u001b[0m\u001b[0;34m(\u001b[0m\u001b[0mkey\u001b[0m\u001b[0;34m)\u001b[0m \u001b[0;32mfrom\u001b[0m \u001b[0merr\u001b[0m\u001b[0;34m\u001b[0m\u001b[0;34m\u001b[0m\u001b[0m\n\u001b[0m\u001b[1;32m   3813\u001b[0m         \u001b[0;32mexcept\u001b[0m \u001b[0mTypeError\u001b[0m\u001b[0;34m:\u001b[0m\u001b[0;34m\u001b[0m\u001b[0;34m\u001b[0m\u001b[0m\n\u001b[1;32m   3814\u001b[0m             \u001b[0;31m# If we have a listlike key, _check_indexing_error will raise\u001b[0m\u001b[0;34m\u001b[0m\u001b[0;34m\u001b[0m\u001b[0m\n",
            "\u001b[0;31mKeyError\u001b[0m: 'ANO_OBITO'"
          ]
        }
      ]
    },
    {
      "cell_type": "code",
      "source": [
        "path = \"/content/mortalidade_1979.csv\"\n",
        "\n",
        "mortalidade_2023 = pl.read_csv(path, separator=\";\",encoding=\"latin-1\", schema_overrides={\"DTNASC\": pl.String, \"DTOBITO\": pl.String}, null_values=[\"null\"], infer_schema=False)"
      ],
      "metadata": {
        "id": "fIP3YGU4MX0u"
      },
      "execution_count": null,
      "outputs": []
    },
    {
      "cell_type": "code",
      "source": [
        "mortalidade_2023[\"CAUSABAS\"]"
      ],
      "metadata": {
        "id": "MankDe2IjHMo"
      },
      "execution_count": null,
      "outputs": []
    },
    {
      "cell_type": "code",
      "source": [
        "mortalidade_2023 = mortalidade_2023.with_columns(\n",
        "    pl.col(\"DTNASC\").str.strptime(pl.Date, \"%d%m%Y\").alias(\"DTNASC_CONV\"),\n",
        "    pl.col(\"DTOBITO\").str.strptime(pl.Date, \"%d%m%Y\").alias(\"DTOBITO_CONV\"),\n",
        ")"
      ],
      "metadata": {
        "id": "vie_i0McqjR6"
      },
      "execution_count": null,
      "outputs": []
    },
    {
      "cell_type": "code",
      "source": [
        "mortalidade_2023"
      ],
      "metadata": {
        "id": "0WBi6Utef7Qr"
      },
      "execution_count": null,
      "outputs": []
    },
    {
      "cell_type": "code",
      "source": [
        "mortalidade_2023 = mortalidade_2023.with_columns(\n",
        "  (\n",
        "        (pl.col(\"DTOBITO_CONV\") - pl.col(\"DTNASC_CONV\"))\n",
        "        .dt.total_days() / 365.25\n",
        "    ).alias(\"IDADE\")\n",
        ")"
      ],
      "metadata": {
        "id": "HAThLkGbt_mo"
      },
      "execution_count": null,
      "outputs": []
    },
    {
      "cell_type": "code",
      "source": [
        "mortalidade_2023 = mortalidade_2023.with_columns(\n",
        "    pl.col(\"CODMUNOCOR\").cast(pl.Utf8).str.slice(0, 2).alias(\"codigo_estado\")\n",
        ")\n"
      ],
      "metadata": {
        "id": "tiQGahlG05yy"
      },
      "execution_count": null,
      "outputs": []
    },
    {
      "cell_type": "code",
      "source": [
        "mortalidade_2023.collect_schema().names()\n",
        "\n",
        "# CODMUNOCOR - cod mun local"
      ],
      "metadata": {
        "id": "sQ6TOEbKle9W"
      },
      "execution_count": null,
      "outputs": []
    },
    {
      "cell_type": "code",
      "source": [
        "mortalidade_2023"
      ],
      "metadata": {
        "id": "qT48Qha3yAMm"
      },
      "execution_count": null,
      "outputs": []
    },
    {
      "cell_type": "code",
      "source": [
        "mortalidade_2023_rs = mortalidade_2023.filter(pl.col(\"codigo_estado\") == \"43\")"
      ],
      "metadata": {
        "id": "pTFW5dmtGyXf"
      },
      "execution_count": null,
      "outputs": []
    },
    {
      "cell_type": "code",
      "source": [
        "len(mortalidade_2023_rs)"
      ],
      "metadata": {
        "colab": {
          "base_uri": "https://localhost:8080/"
        },
        "id": "WPdVsXiPG-nD",
        "outputId": "b14dd88f-6ec2-44df-ad79-0835b925b2d0"
      },
      "execution_count": null,
      "outputs": [
        {
          "output_type": "execute_result",
          "data": {
            "text/plain": [
              "93379"
            ]
          },
          "metadata": {},
          "execution_count": 16
        }
      ]
    },
    {
      "cell_type": "code",
      "source": [
        "mortalidade_2023_rs_lajeado = mortalidade_2023.filter(pl.col(\"CODMUNOCOR\") == 431140)"
      ],
      "metadata": {
        "id": "KDQFK6yiHBXK"
      },
      "execution_count": null,
      "outputs": []
    },
    {
      "cell_type": "code",
      "source": [
        "len(mortalidade_2023_rs_lajeado)"
      ],
      "metadata": {
        "colab": {
          "base_uri": "https://localhost:8080/"
        },
        "id": "8Y6eoCsmHQen",
        "outputId": "6c502371-2351-40d1-8b40-e33ebcbc4642"
      },
      "execution_count": null,
      "outputs": [
        {
          "output_type": "execute_result",
          "data": {
            "text/plain": [
              "834"
            ]
          },
          "metadata": {},
          "execution_count": 49
        }
      ]
    },
    {
      "cell_type": "code",
      "source": [
        "mortalidade_2023_rs_lajeado"
      ],
      "metadata": {
        "id": "SIF-pcCkHY_F"
      },
      "execution_count": null,
      "outputs": []
    },
    {
      "cell_type": "code",
      "source": [
        "# X700 até X849 e Y870\n",
        "pl.Config.set_tbl_rows(100)\n",
        "x = mortalidade_2023_rs_lajeado.filter(pl.col(\"CAUSABAS\").str.starts_with(\"X\"))\n",
        "x"
      ],
      "metadata": {
        "id": "ukzfHcUQKab-"
      },
      "execution_count": null,
      "outputs": []
    },
    {
      "cell_type": "code",
      "source": [
        "df_x = x.select([\"CAUSABAS\", \"IDADE\", \"SEXO\", \"RACACOR\", \"LOCOCOR\", \"DTNASC_CONV\", \"DTOBITO_CONV\"])\n",
        "df_x"
      ],
      "metadata": {
        "id": "cwSgQs0EHvtn"
      },
      "execution_count": null,
      "outputs": []
    },
    {
      "cell_type": "code",
      "source": [
        "pl.Config.set_tbl_width_chars(200)\n",
        "pl.Config.set_fmt_str_lengths(200)\n",
        "df_x = df_x.join(sub_categorias, left_on=\"CAUSABAS\", right_on=\"SUBCAT\", how=\"left\")"
      ],
      "metadata": {
        "id": "4Jxc5j6JH2qU"
      },
      "execution_count": null,
      "outputs": []
    },
    {
      "cell_type": "code",
      "source": [
        "# ver escolaridade e mais dados sociais\n",
        "\n",
        "df_auto = df_x.filter(df_x['DESCRICAO'].str.contains('autoprovocada'))\n",
        "print(len(df_auto))\n",
        "df_auto"
      ],
      "metadata": {
        "id": "MYvzTkJrQfz4"
      },
      "execution_count": null,
      "outputs": []
    },
    {
      "cell_type": "markdown",
      "source": [
        "################"
      ],
      "metadata": {
        "id": "IymkLEEbx-Fa"
      }
    },
    {
      "cell_type": "code",
      "source": [
        "import pandas as pd"
      ],
      "metadata": {
        "id": "LZuQkdrqWOcD"
      },
      "execution_count": null,
      "outputs": []
    },
    {
      "cell_type": "code",
      "execution_count": null,
      "metadata": {
        "collapsed": true,
        "id": "vr3VX5VtQsAF"
      },
      "outputs": [],
      "source": [
        "df = pd.read_csv('/content/sim_obitos.csv', delimiter=';')"
      ]
    },
    {
      "cell_type": "code",
      "source": [
        "df"
      ],
      "metadata": {
        "id": "LTZsUZSKcyj1"
      },
      "execution_count": null,
      "outputs": []
    },
    {
      "cell_type": "code",
      "source": [
        "CID = df['cid_causa_basica'].unique()\n",
        "CID"
      ],
      "metadata": {
        "colab": {
          "base_uri": "https://localhost:8080/"
        },
        "id": "cQ2csZlRfyLB",
        "outputId": "d64ffdbc-45fa-4bf7-d58d-838a76c36938"
      },
      "execution_count": null,
      "outputs": [
        {
          "output_type": "execute_result",
          "data": {
            "text/plain": [
              "array(['I259', 'K703', 'Y209', ..., 'X956', 'F402', 'P229'], dtype=object)"
            ]
          },
          "metadata": {},
          "execution_count": 58
        }
      ]
    },
    {
      "cell_type": "code",
      "source": [
        "cid_subcat = pd.read_csv('/content/CID-10-SUBCATEGORIAS.CSV', encoding='latin-1', delimiter=';')"
      ],
      "metadata": {
        "id": "vEgysXbXgFwo"
      },
      "execution_count": null,
      "outputs": []
    },
    {
      "cell_type": "code",
      "source": [
        "cid_subcat"
      ],
      "metadata": {
        "id": "S08MfMTph-je"
      },
      "execution_count": null,
      "outputs": []
    },
    {
      "cell_type": "code",
      "source": [
        "df_index_cid = pd.read_csv('/content/sim_obitos.csv', index_col='cid_causa_basica', delimiter=';')"
      ],
      "metadata": {
        "id": "X9b8cY79ma_p"
      },
      "execution_count": null,
      "outputs": []
    },
    {
      "cell_type": "markdown",
      "source": [],
      "metadata": {
        "id": "tYWyIVaqqQLK"
      }
    },
    {
      "cell_type": "markdown",
      "source": [],
      "metadata": {
        "id": "17bCkr8vqQIM"
      }
    },
    {
      "cell_type": "code",
      "source": [
        "# print(cid_subcat[cid_subcat['SUBCAT'].str.startswith('X20')])\n",
        "X20 = df_index_cid[df_index_cid.index.astype(str).get_level_values('cid_causa_basica').str.startswith('X')]\n",
        "X20"
      ],
      "metadata": {
        "id": "hLoXae5h8owF"
      },
      "execution_count": null,
      "outputs": []
    },
    {
      "cell_type": "code",
      "source": [
        "df_filtrado = cid_subcat[cid_subcat['SUBCAT'].isin(X20.index)]\n",
        "df_filtrado"
      ],
      "metadata": {
        "id": "OttGnZ2L-qXx"
      },
      "execution_count": null,
      "outputs": []
    },
    {
      "cell_type": "code",
      "source": [
        "df_sui = df_index_cid[df_index_cid['circunstancia_obito'] == 'SUICÍDIO']\n",
        "# df_sui = df_sui[df_sui['obito'].str.endswith('17')]\n",
        "df_sui"
      ],
      "metadata": {
        "id": "biHpmjn8E5Ux"
      },
      "execution_count": null,
      "outputs": []
    },
    {
      "cell_type": "code",
      "source": [
        "Z634 = df_index_cid[df_index_cid.index.astype(str).get_level_values('cid_causa_basica').str.startswith('Z634')]\n",
        "Z634"
      ],
      "metadata": {
        "colab": {
          "base_uri": "https://localhost:8080/",
          "height": 109
        },
        "id": "za3bDY3ZGXXz",
        "outputId": "34bae1ff-c5ee-4dd9-d8ee-e881d9e163dd"
      },
      "execution_count": null,
      "outputs": [
        {
          "output_type": "execute_result",
          "data": {
            "text/plain": [
              "Empty DataFrame\n",
              "Columns: [data_extracao, identificador_pessoa2, obito, nascimento, escolaridade, sexo, raca, gestacao, gravidez, tipo_obito, circunstancia_obito, obito_prematuro, obito_mulher_idade_fertil]\n",
              "Index: []"
            ],
            "text/html": [
              "\n",
              "  <div id=\"df-520861c7-e44d-4b67-9588-6ee0498efa9d\" class=\"colab-df-container\">\n",
              "    <div>\n",
              "<style scoped>\n",
              "    .dataframe tbody tr th:only-of-type {\n",
              "        vertical-align: middle;\n",
              "    }\n",
              "\n",
              "    .dataframe tbody tr th {\n",
              "        vertical-align: top;\n",
              "    }\n",
              "\n",
              "    .dataframe thead th {\n",
              "        text-align: right;\n",
              "    }\n",
              "</style>\n",
              "<table border=\"1\" class=\"dataframe\">\n",
              "  <thead>\n",
              "    <tr style=\"text-align: right;\">\n",
              "      <th></th>\n",
              "      <th>data_extracao</th>\n",
              "      <th>identificador_pessoa2</th>\n",
              "      <th>obito</th>\n",
              "      <th>nascimento</th>\n",
              "      <th>escolaridade</th>\n",
              "      <th>sexo</th>\n",
              "      <th>raca</th>\n",
              "      <th>gestacao</th>\n",
              "      <th>gravidez</th>\n",
              "      <th>tipo_obito</th>\n",
              "      <th>circunstancia_obito</th>\n",
              "      <th>obito_prematuro</th>\n",
              "      <th>obito_mulher_idade_fertil</th>\n",
              "    </tr>\n",
              "    <tr>\n",
              "      <th>cid_causa_basica</th>\n",
              "      <th></th>\n",
              "      <th></th>\n",
              "      <th></th>\n",
              "      <th></th>\n",
              "      <th></th>\n",
              "      <th></th>\n",
              "      <th></th>\n",
              "      <th></th>\n",
              "      <th></th>\n",
              "      <th></th>\n",
              "      <th></th>\n",
              "      <th></th>\n",
              "      <th></th>\n",
              "    </tr>\n",
              "  </thead>\n",
              "  <tbody>\n",
              "  </tbody>\n",
              "</table>\n",
              "</div>\n",
              "    <div class=\"colab-df-buttons\">\n",
              "\n",
              "  <div class=\"colab-df-container\">\n",
              "    <button class=\"colab-df-convert\" onclick=\"convertToInteractive('df-520861c7-e44d-4b67-9588-6ee0498efa9d')\"\n",
              "            title=\"Convert this dataframe to an interactive table.\"\n",
              "            style=\"display:none;\">\n",
              "\n",
              "  <svg xmlns=\"http://www.w3.org/2000/svg\" height=\"24px\" viewBox=\"0 -960 960 960\">\n",
              "    <path d=\"M120-120v-720h720v720H120Zm60-500h600v-160H180v160Zm220 220h160v-160H400v160Zm0 220h160v-160H400v160ZM180-400h160v-160H180v160Zm440 0h160v-160H620v160ZM180-180h160v-160H180v160Zm440 0h160v-160H620v160Z\"/>\n",
              "  </svg>\n",
              "    </button>\n",
              "\n",
              "  <style>\n",
              "    .colab-df-container {\n",
              "      display:flex;\n",
              "      gap: 12px;\n",
              "    }\n",
              "\n",
              "    .colab-df-convert {\n",
              "      background-color: #E8F0FE;\n",
              "      border: none;\n",
              "      border-radius: 50%;\n",
              "      cursor: pointer;\n",
              "      display: none;\n",
              "      fill: #1967D2;\n",
              "      height: 32px;\n",
              "      padding: 0 0 0 0;\n",
              "      width: 32px;\n",
              "    }\n",
              "\n",
              "    .colab-df-convert:hover {\n",
              "      background-color: #E2EBFA;\n",
              "      box-shadow: 0px 1px 2px rgba(60, 64, 67, 0.3), 0px 1px 3px 1px rgba(60, 64, 67, 0.15);\n",
              "      fill: #174EA6;\n",
              "    }\n",
              "\n",
              "    .colab-df-buttons div {\n",
              "      margin-bottom: 4px;\n",
              "    }\n",
              "\n",
              "    [theme=dark] .colab-df-convert {\n",
              "      background-color: #3B4455;\n",
              "      fill: #D2E3FC;\n",
              "    }\n",
              "\n",
              "    [theme=dark] .colab-df-convert:hover {\n",
              "      background-color: #434B5C;\n",
              "      box-shadow: 0px 1px 3px 1px rgba(0, 0, 0, 0.15);\n",
              "      filter: drop-shadow(0px 1px 2px rgba(0, 0, 0, 0.3));\n",
              "      fill: #FFFFFF;\n",
              "    }\n",
              "  </style>\n",
              "\n",
              "    <script>\n",
              "      const buttonEl =\n",
              "        document.querySelector('#df-520861c7-e44d-4b67-9588-6ee0498efa9d button.colab-df-convert');\n",
              "      buttonEl.style.display =\n",
              "        google.colab.kernel.accessAllowed ? 'block' : 'none';\n",
              "\n",
              "      async function convertToInteractive(key) {\n",
              "        const element = document.querySelector('#df-520861c7-e44d-4b67-9588-6ee0498efa9d');\n",
              "        const dataTable =\n",
              "          await google.colab.kernel.invokeFunction('convertToInteractive',\n",
              "                                                    [key], {});\n",
              "        if (!dataTable) return;\n",
              "\n",
              "        const docLinkHtml = 'Like what you see? Visit the ' +\n",
              "          '<a target=\"_blank\" href=https://colab.research.google.com/notebooks/data_table.ipynb>data table notebook</a>'\n",
              "          + ' to learn more about interactive tables.';\n",
              "        element.innerHTML = '';\n",
              "        dataTable['output_type'] = 'display_data';\n",
              "        await google.colab.output.renderOutput(dataTable, element);\n",
              "        const docLink = document.createElement('div');\n",
              "        docLink.innerHTML = docLinkHtml;\n",
              "        element.appendChild(docLink);\n",
              "      }\n",
              "    </script>\n",
              "  </div>\n",
              "\n",
              "\n",
              "  <div id=\"id_c62d109b-6a60-49e4-9d1f-a31d6c05b9e4\">\n",
              "    <style>\n",
              "      .colab-df-generate {\n",
              "        background-color: #E8F0FE;\n",
              "        border: none;\n",
              "        border-radius: 50%;\n",
              "        cursor: pointer;\n",
              "        display: none;\n",
              "        fill: #1967D2;\n",
              "        height: 32px;\n",
              "        padding: 0 0 0 0;\n",
              "        width: 32px;\n",
              "      }\n",
              "\n",
              "      .colab-df-generate:hover {\n",
              "        background-color: #E2EBFA;\n",
              "        box-shadow: 0px 1px 2px rgba(60, 64, 67, 0.3), 0px 1px 3px 1px rgba(60, 64, 67, 0.15);\n",
              "        fill: #174EA6;\n",
              "      }\n",
              "\n",
              "      [theme=dark] .colab-df-generate {\n",
              "        background-color: #3B4455;\n",
              "        fill: #D2E3FC;\n",
              "      }\n",
              "\n",
              "      [theme=dark] .colab-df-generate:hover {\n",
              "        background-color: #434B5C;\n",
              "        box-shadow: 0px 1px 3px 1px rgba(0, 0, 0, 0.15);\n",
              "        filter: drop-shadow(0px 1px 2px rgba(0, 0, 0, 0.3));\n",
              "        fill: #FFFFFF;\n",
              "      }\n",
              "    </style>\n",
              "    <button class=\"colab-df-generate\" onclick=\"generateWithVariable('Z634')\"\n",
              "            title=\"Generate code using this dataframe.\"\n",
              "            style=\"display:none;\">\n",
              "\n",
              "  <svg xmlns=\"http://www.w3.org/2000/svg\" height=\"24px\"viewBox=\"0 0 24 24\"\n",
              "       width=\"24px\">\n",
              "    <path d=\"M7,19H8.4L18.45,9,17,7.55,7,17.6ZM5,21V16.75L18.45,3.32a2,2,0,0,1,2.83,0l1.4,1.43a1.91,1.91,0,0,1,.58,1.4,1.91,1.91,0,0,1-.58,1.4L9.25,21ZM18.45,9,17,7.55Zm-12,3A5.31,5.31,0,0,0,4.9,8.1,5.31,5.31,0,0,0,1,6.5,5.31,5.31,0,0,0,4.9,4.9,5.31,5.31,0,0,0,6.5,1,5.31,5.31,0,0,0,8.1,4.9,5.31,5.31,0,0,0,12,6.5,5.46,5.46,0,0,0,6.5,12Z\"/>\n",
              "  </svg>\n",
              "    </button>\n",
              "    <script>\n",
              "      (() => {\n",
              "      const buttonEl =\n",
              "        document.querySelector('#id_c62d109b-6a60-49e4-9d1f-a31d6c05b9e4 button.colab-df-generate');\n",
              "      buttonEl.style.display =\n",
              "        google.colab.kernel.accessAllowed ? 'block' : 'none';\n",
              "\n",
              "      buttonEl.onclick = () => {\n",
              "        google.colab.notebook.generateWithVariable('Z634');\n",
              "      }\n",
              "      })();\n",
              "    </script>\n",
              "  </div>\n",
              "\n",
              "    </div>\n",
              "  </div>\n"
            ],
            "application/vnd.google.colaboratory.intrinsic+json": {
              "type": "dataframe",
              "variable_name": "Z634",
              "repr_error": "Out of range float values are not JSON compliant: nan"
            }
          },
          "metadata": {},
          "execution_count": 103
        }
      ]
    },
    {
      "cell_type": "code",
      "source": [
        "df_sui['nascimento_fake_day'] = '01/' + df_sui['nascimento'].astype(str)\n",
        "\n",
        "df_sui['nasc_date'] = pd.to_datetime(df_sui['nascimento_fake_day'], errors='coerce', format=\"%d/%m/%Y\")\n",
        "df_sui['nasc_year'] = pd.DatetimeIndex(df_sui['nasc_date']).year\n",
        "\n",
        "df_sui['obito_fake_day'] = '01/' + df_sui['obito'].astype(str)\n",
        "\n",
        "df_sui['obito_date'] = pd.to_datetime(df_sui['obito_fake_day'], errors='coerce', format=\"%d/%m/%Y\")\n",
        "df_sui['obito_year'] = pd.DatetimeIndex(df_sui['obito_date']).year\n",
        "df_sui"
      ],
      "metadata": {
        "id": "e8qLFz5sG-7-"
      },
      "execution_count": null,
      "outputs": []
    },
    {
      "cell_type": "code",
      "source": [
        "df_sui['obito_year'].min()"
      ],
      "metadata": {
        "colab": {
          "base_uri": "https://localhost:8080/"
        },
        "id": "qk8P5A-UMja9",
        "outputId": "9e2c8725-7dc2-485e-d034-5dc058db35ee"
      },
      "execution_count": null,
      "outputs": [
        {
          "output_type": "execute_result",
          "data": {
            "text/plain": [
              "2011"
            ]
          },
          "metadata": {},
          "execution_count": 141
        }
      ]
    },
    {
      "cell_type": "code",
      "source": [
        "df_2012 = df_sui[df_sui['obito'].str.endswith('12')]\n",
        "df_2012"
      ],
      "metadata": {
        "id": "gF6CvOLGM-Nl"
      },
      "execution_count": null,
      "outputs": []
    },
    {
      "cell_type": "code",
      "source": [
        "df_sui['obito_year'].value_counts()"
      ],
      "metadata": {
        "id": "YZUfKOU2NSAs"
      },
      "execution_count": null,
      "outputs": []
    },
    {
      "cell_type": "code",
      "source": [
        "import matplotlib.pyplot as plt\n",
        "import numpy as np"
      ],
      "metadata": {
        "id": "UxS9s-qFNlhm"
      },
      "execution_count": null,
      "outputs": []
    },
    {
      "cell_type": "code",
      "source": [
        "contagens = df_sui['obito_year'].value_counts().sort_index()\n",
        "\n",
        "contagens.plot(kind='bar')\n",
        "\n",
        "# Opcional: adicionar título e rótulos\n",
        "plt.title('Frequência dos valores em nome_coluna')\n",
        "plt.xlabel('Valor')\n",
        "plt.ylabel('Contagem')\n",
        "\n",
        "# Mostrar o gráfico\n",
        "plt.show()"
      ],
      "metadata": {
        "colab": {
          "base_uri": "https://localhost:8080/",
          "height": 493
        },
        "id": "L9f-8rNaNxds",
        "outputId": "516eb823-fb14-4efb-bf69-a5e0a57e849c"
      },
      "execution_count": null,
      "outputs": [
        {
          "output_type": "display_data",
          "data": {
            "text/plain": [
              "<Figure size 640x480 with 1 Axes>"
            ],
            "image/png": "[encoded data removed]"
          },
          "metadata": {}
        }
      ]
    },
    {
      "cell_type": "code",
      "source": [
        "# Eixos X e Y\n",
        "x = np.arange(len(contagens))  # valores do eixo x (0, 1, 2, ...)\n",
        "y = contagens.values           # contagens (frequências)\n",
        "labels = contagens.index       # rótulos (valores únicos da coluna)\n",
        "\n",
        "# Regressão linear (reta: y = mx + b)\n",
        "coef = np.polyfit(x, y, 1)\n",
        "poly1d_fn = np.poly1d(coef)\n",
        "\n",
        "# Plot\n",
        "plt.figure(figsize=(10, 6))\n",
        "plt.bar(x, y, label='Frequência')\n",
        "plt.plot(x, poly1d_fn(x), color='red', linewidth=2, label='Regressão linear')  # linha da regressão\n",
        "\n",
        "# Rótulos e título\n",
        "plt.xticks(x, labels, rotation=45)\n",
        "plt.xlabel('Valor')\n",
        "plt.ylabel('Contagem')\n",
        "plt.title('Frequência com Regressão Linear')\n",
        "plt.legend()\n",
        "plt.tight_layout()\n",
        "plt.show()"
      ],
      "metadata": {
        "colab": {
          "base_uri": "https://localhost:8080/",
          "height": 607
        },
        "id": "SBBcqQcuOLvX",
        "outputId": "a5d32d19-0af1-4d37-c196-d54ea583ebfa"
      },
      "execution_count": null,
      "outputs": [
        {
          "output_type": "display_data",
          "data": {
            "text/plain": [
              "<Figure size 1000x600 with 1 Axes>"
            ],
            "image/png": "[encoded data removed]"
          },
          "metadata": {}
        }
      ]
    }
  ]
}